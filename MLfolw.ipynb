{
  "cells": [
    {
      "cell_type": "markdown",
      "id": "c755214a",
      "metadata": {
        "id": "c755214a"
      },
      "source": [
        "# Title: Personalized Medical Recommendation System with Machine Learning\n",
        "\n",
        "# Description:\n",
        "\n",
        "Welcome to our cutting-edge Personalized Medical Recommendation System, a powerful platform designed to assist users in understanding and managing their health. Leveraging the capabilities of machine learning, our system analyzes user-input symptoms to predict potential diseases accurately."
      ]
    },
    {
      "cell_type": "markdown",
      "id": "db119e1e",
      "metadata": {
        "id": "db119e1e"
      },
      "source": [
        "# load dataset & tools"
      ]
    },
    {
      "cell_type": "code",
      "execution_count": 1,
      "id": "4e4766bf",
      "metadata": {
        "id": "4e4766bf"
      },
      "outputs": [],
      "source": [
        "import  pandas as pd"
      ]
    },
    {
      "cell_type": "code",
      "execution_count": 2,
      "id": "56ce4778",
      "metadata": {
        "id": "56ce4778"
      },
      "outputs": [],
      "source": [
        "dataset = pd.read_csv('datasets/Training.csv')"
      ]
    },
    {
      "cell_type": "code",
      "execution_count": 3,
      "id": "5f18d6d2",
      "metadata": {
        "colab": {
          "base_uri": "https://localhost:8080/",
          "height": 617
        },
        "id": "5f18d6d2",
        "outputId": "a31be866-3176-4a46-b446-4468be3d5365"
      },
      "outputs": [
        {
          "data": {
            "text/html": [
              "<div>\n",
              "<style scoped>\n",
              "    .dataframe tbody tr th:only-of-type {\n",
              "        vertical-align: middle;\n",
              "    }\n",
              "\n",
              "    .dataframe tbody tr th {\n",
              "        vertical-align: top;\n",
              "    }\n",
              "\n",
              "    .dataframe thead th {\n",
              "        text-align: right;\n",
              "    }\n",
              "</style>\n",
              "<table border=\"1\" class=\"dataframe\">\n",
              "  <thead>\n",
              "    <tr style=\"text-align: right;\">\n",
              "      <th></th>\n",
              "      <th>itching</th>\n",
              "      <th>skin_rash</th>\n",
              "      <th>nodal_skin_eruptions</th>\n",
              "      <th>continuous_sneezing</th>\n",
              "      <th>shivering</th>\n",
              "      <th>chills</th>\n",
              "      <th>joint_pain</th>\n",
              "      <th>stomach_pain</th>\n",
              "      <th>acidity</th>\n",
              "      <th>ulcers_on_tongue</th>\n",
              "      <th>...</th>\n",
              "      <th>blackheads</th>\n",
              "      <th>scurring</th>\n",
              "      <th>skin_peeling</th>\n",
              "      <th>silver_like_dusting</th>\n",
              "      <th>small_dents_in_nails</th>\n",
              "      <th>inflammatory_nails</th>\n",
              "      <th>blister</th>\n",
              "      <th>red_sore_around_nose</th>\n",
              "      <th>yellow_crust_ooze</th>\n",
              "      <th>prognosis</th>\n",
              "    </tr>\n",
              "  </thead>\n",
              "  <tbody>\n",
              "    <tr>\n",
              "      <th>0</th>\n",
              "      <td>1</td>\n",
              "      <td>1</td>\n",
              "      <td>1</td>\n",
              "      <td>0</td>\n",
              "      <td>0</td>\n",
              "      <td>0</td>\n",
              "      <td>0</td>\n",
              "      <td>0</td>\n",
              "      <td>0</td>\n",
              "      <td>0</td>\n",
              "      <td>...</td>\n",
              "      <td>0</td>\n",
              "      <td>0</td>\n",
              "      <td>0</td>\n",
              "      <td>0</td>\n",
              "      <td>0</td>\n",
              "      <td>0</td>\n",
              "      <td>0</td>\n",
              "      <td>0</td>\n",
              "      <td>0</td>\n",
              "      <td>Fungal infection</td>\n",
              "    </tr>\n",
              "    <tr>\n",
              "      <th>1</th>\n",
              "      <td>0</td>\n",
              "      <td>1</td>\n",
              "      <td>1</td>\n",
              "      <td>0</td>\n",
              "      <td>0</td>\n",
              "      <td>0</td>\n",
              "      <td>0</td>\n",
              "      <td>0</td>\n",
              "      <td>0</td>\n",
              "      <td>0</td>\n",
              "      <td>...</td>\n",
              "      <td>0</td>\n",
              "      <td>0</td>\n",
              "      <td>0</td>\n",
              "      <td>0</td>\n",
              "      <td>0</td>\n",
              "      <td>0</td>\n",
              "      <td>0</td>\n",
              "      <td>0</td>\n",
              "      <td>0</td>\n",
              "      <td>Fungal infection</td>\n",
              "    </tr>\n",
              "    <tr>\n",
              "      <th>2</th>\n",
              "      <td>1</td>\n",
              "      <td>0</td>\n",
              "      <td>1</td>\n",
              "      <td>0</td>\n",
              "      <td>0</td>\n",
              "      <td>0</td>\n",
              "      <td>0</td>\n",
              "      <td>0</td>\n",
              "      <td>0</td>\n",
              "      <td>0</td>\n",
              "      <td>...</td>\n",
              "      <td>0</td>\n",
              "      <td>0</td>\n",
              "      <td>0</td>\n",
              "      <td>0</td>\n",
              "      <td>0</td>\n",
              "      <td>0</td>\n",
              "      <td>0</td>\n",
              "      <td>0</td>\n",
              "      <td>0</td>\n",
              "      <td>Fungal infection</td>\n",
              "    </tr>\n",
              "    <tr>\n",
              "      <th>3</th>\n",
              "      <td>1</td>\n",
              "      <td>1</td>\n",
              "      <td>0</td>\n",
              "      <td>0</td>\n",
              "      <td>0</td>\n",
              "      <td>0</td>\n",
              "      <td>0</td>\n",
              "      <td>0</td>\n",
              "      <td>0</td>\n",
              "      <td>0</td>\n",
              "      <td>...</td>\n",
              "      <td>0</td>\n",
              "      <td>0</td>\n",
              "      <td>0</td>\n",
              "      <td>0</td>\n",
              "      <td>0</td>\n",
              "      <td>0</td>\n",
              "      <td>0</td>\n",
              "      <td>0</td>\n",
              "      <td>0</td>\n",
              "      <td>Fungal infection</td>\n",
              "    </tr>\n",
              "    <tr>\n",
              "      <th>4</th>\n",
              "      <td>1</td>\n",
              "      <td>1</td>\n",
              "      <td>1</td>\n",
              "      <td>0</td>\n",
              "      <td>0</td>\n",
              "      <td>0</td>\n",
              "      <td>0</td>\n",
              "      <td>0</td>\n",
              "      <td>0</td>\n",
              "      <td>0</td>\n",
              "      <td>...</td>\n",
              "      <td>0</td>\n",
              "      <td>0</td>\n",
              "      <td>0</td>\n",
              "      <td>0</td>\n",
              "      <td>0</td>\n",
              "      <td>0</td>\n",
              "      <td>0</td>\n",
              "      <td>0</td>\n",
              "      <td>0</td>\n",
              "      <td>Fungal infection</td>\n",
              "    </tr>\n",
              "    <tr>\n",
              "      <th>...</th>\n",
              "      <td>...</td>\n",
              "      <td>...</td>\n",
              "      <td>...</td>\n",
              "      <td>...</td>\n",
              "      <td>...</td>\n",
              "      <td>...</td>\n",
              "      <td>...</td>\n",
              "      <td>...</td>\n",
              "      <td>...</td>\n",
              "      <td>...</td>\n",
              "      <td>...</td>\n",
              "      <td>...</td>\n",
              "      <td>...</td>\n",
              "      <td>...</td>\n",
              "      <td>...</td>\n",
              "      <td>...</td>\n",
              "      <td>...</td>\n",
              "      <td>...</td>\n",
              "      <td>...</td>\n",
              "      <td>...</td>\n",
              "      <td>...</td>\n",
              "    </tr>\n",
              "    <tr>\n",
              "      <th>4915</th>\n",
              "      <td>0</td>\n",
              "      <td>0</td>\n",
              "      <td>0</td>\n",
              "      <td>0</td>\n",
              "      <td>0</td>\n",
              "      <td>0</td>\n",
              "      <td>0</td>\n",
              "      <td>0</td>\n",
              "      <td>0</td>\n",
              "      <td>0</td>\n",
              "      <td>...</td>\n",
              "      <td>0</td>\n",
              "      <td>0</td>\n",
              "      <td>0</td>\n",
              "      <td>0</td>\n",
              "      <td>0</td>\n",
              "      <td>0</td>\n",
              "      <td>0</td>\n",
              "      <td>0</td>\n",
              "      <td>0</td>\n",
              "      <td>(vertigo) Paroymsal  Positional Vertigo</td>\n",
              "    </tr>\n",
              "    <tr>\n",
              "      <th>4916</th>\n",
              "      <td>0</td>\n",
              "      <td>1</td>\n",
              "      <td>0</td>\n",
              "      <td>0</td>\n",
              "      <td>0</td>\n",
              "      <td>0</td>\n",
              "      <td>0</td>\n",
              "      <td>0</td>\n",
              "      <td>0</td>\n",
              "      <td>0</td>\n",
              "      <td>...</td>\n",
              "      <td>1</td>\n",
              "      <td>1</td>\n",
              "      <td>0</td>\n",
              "      <td>0</td>\n",
              "      <td>0</td>\n",
              "      <td>0</td>\n",
              "      <td>0</td>\n",
              "      <td>0</td>\n",
              "      <td>0</td>\n",
              "      <td>Acne</td>\n",
              "    </tr>\n",
              "    <tr>\n",
              "      <th>4917</th>\n",
              "      <td>0</td>\n",
              "      <td>0</td>\n",
              "      <td>0</td>\n",
              "      <td>0</td>\n",
              "      <td>0</td>\n",
              "      <td>0</td>\n",
              "      <td>0</td>\n",
              "      <td>0</td>\n",
              "      <td>0</td>\n",
              "      <td>0</td>\n",
              "      <td>...</td>\n",
              "      <td>0</td>\n",
              "      <td>0</td>\n",
              "      <td>0</td>\n",
              "      <td>0</td>\n",
              "      <td>0</td>\n",
              "      <td>0</td>\n",
              "      <td>0</td>\n",
              "      <td>0</td>\n",
              "      <td>0</td>\n",
              "      <td>Urinary tract infection</td>\n",
              "    </tr>\n",
              "    <tr>\n",
              "      <th>4918</th>\n",
              "      <td>0</td>\n",
              "      <td>1</td>\n",
              "      <td>0</td>\n",
              "      <td>0</td>\n",
              "      <td>0</td>\n",
              "      <td>0</td>\n",
              "      <td>1</td>\n",
              "      <td>0</td>\n",
              "      <td>0</td>\n",
              "      <td>0</td>\n",
              "      <td>...</td>\n",
              "      <td>0</td>\n",
              "      <td>0</td>\n",
              "      <td>1</td>\n",
              "      <td>1</td>\n",
              "      <td>1</td>\n",
              "      <td>1</td>\n",
              "      <td>0</td>\n",
              "      <td>0</td>\n",
              "      <td>0</td>\n",
              "      <td>Psoriasis</td>\n",
              "    </tr>\n",
              "    <tr>\n",
              "      <th>4919</th>\n",
              "      <td>0</td>\n",
              "      <td>1</td>\n",
              "      <td>0</td>\n",
              "      <td>0</td>\n",
              "      <td>0</td>\n",
              "      <td>0</td>\n",
              "      <td>0</td>\n",
              "      <td>0</td>\n",
              "      <td>0</td>\n",
              "      <td>0</td>\n",
              "      <td>...</td>\n",
              "      <td>0</td>\n",
              "      <td>0</td>\n",
              "      <td>0</td>\n",
              "      <td>0</td>\n",
              "      <td>0</td>\n",
              "      <td>0</td>\n",
              "      <td>1</td>\n",
              "      <td>1</td>\n",
              "      <td>1</td>\n",
              "      <td>Impetigo</td>\n",
              "    </tr>\n",
              "  </tbody>\n",
              "</table>\n",
              "<p>4920 rows × 133 columns</p>\n",
              "</div>"
            ],
            "text/plain": [
              "      itching  skin_rash  nodal_skin_eruptions  continuous_sneezing  \\\n",
              "0           1          1                     1                    0   \n",
              "1           0          1                     1                    0   \n",
              "2           1          0                     1                    0   \n",
              "3           1          1                     0                    0   \n",
              "4           1          1                     1                    0   \n",
              "...       ...        ...                   ...                  ...   \n",
              "4915        0          0                     0                    0   \n",
              "4916        0          1                     0                    0   \n",
              "4917        0          0                     0                    0   \n",
              "4918        0          1                     0                    0   \n",
              "4919        0          1                     0                    0   \n",
              "\n",
              "      shivering  chills  joint_pain  stomach_pain  acidity  ulcers_on_tongue  \\\n",
              "0             0       0           0             0        0                 0   \n",
              "1             0       0           0             0        0                 0   \n",
              "2             0       0           0             0        0                 0   \n",
              "3             0       0           0             0        0                 0   \n",
              "4             0       0           0             0        0                 0   \n",
              "...         ...     ...         ...           ...      ...               ...   \n",
              "4915          0       0           0             0        0                 0   \n",
              "4916          0       0           0             0        0                 0   \n",
              "4917          0       0           0             0        0                 0   \n",
              "4918          0       0           1             0        0                 0   \n",
              "4919          0       0           0             0        0                 0   \n",
              "\n",
              "      ...  blackheads  scurring  skin_peeling  silver_like_dusting  \\\n",
              "0     ...           0         0             0                    0   \n",
              "1     ...           0         0             0                    0   \n",
              "2     ...           0         0             0                    0   \n",
              "3     ...           0         0             0                    0   \n",
              "4     ...           0         0             0                    0   \n",
              "...   ...         ...       ...           ...                  ...   \n",
              "4915  ...           0         0             0                    0   \n",
              "4916  ...           1         1             0                    0   \n",
              "4917  ...           0         0             0                    0   \n",
              "4918  ...           0         0             1                    1   \n",
              "4919  ...           0         0             0                    0   \n",
              "\n",
              "      small_dents_in_nails  inflammatory_nails  blister  red_sore_around_nose  \\\n",
              "0                        0                   0        0                     0   \n",
              "1                        0                   0        0                     0   \n",
              "2                        0                   0        0                     0   \n",
              "3                        0                   0        0                     0   \n",
              "4                        0                   0        0                     0   \n",
              "...                    ...                 ...      ...                   ...   \n",
              "4915                     0                   0        0                     0   \n",
              "4916                     0                   0        0                     0   \n",
              "4917                     0                   0        0                     0   \n",
              "4918                     1                   1        0                     0   \n",
              "4919                     0                   0        1                     1   \n",
              "\n",
              "      yellow_crust_ooze                                prognosis  \n",
              "0                     0                         Fungal infection  \n",
              "1                     0                         Fungal infection  \n",
              "2                     0                         Fungal infection  \n",
              "3                     0                         Fungal infection  \n",
              "4                     0                         Fungal infection  \n",
              "...                 ...                                      ...  \n",
              "4915                  0  (vertigo) Paroymsal  Positional Vertigo  \n",
              "4916                  0                                     Acne  \n",
              "4917                  0                  Urinary tract infection  \n",
              "4918                  0                                Psoriasis  \n",
              "4919                  1                                 Impetigo  \n",
              "\n",
              "[4920 rows x 133 columns]"
            ]
          },
          "execution_count": 3,
          "metadata": {},
          "output_type": "execute_result"
        }
      ],
      "source": [
        "dataset"
      ]
    },
    {
      "cell_type": "code",
      "execution_count": 4,
      "id": "f49b2b12",
      "metadata": {
        "id": "f49b2b12"
      },
      "outputs": [],
      "source": [
        "# vals = dataset.values.flatten()"
      ]
    },
    {
      "cell_type": "code",
      "execution_count": 5,
      "id": "a49049bd",
      "metadata": {
        "colab": {
          "base_uri": "https://localhost:8080/"
        },
        "id": "a49049bd",
        "outputId": "1ec512a1-11f9-4a9a-9c3e-de9b0c497662"
      },
      "outputs": [
        {
          "data": {
            "text/plain": [
              "(4920, 133)"
            ]
          },
          "execution_count": 5,
          "metadata": {},
          "output_type": "execute_result"
        }
      ],
      "source": [
        "dataset.shape"
      ]
    },
    {
      "cell_type": "markdown",
      "id": "2db916ab",
      "metadata": {
        "id": "2db916ab"
      },
      "source": [
        "# train test split"
      ]
    },
    {
      "cell_type": "code",
      "execution_count": 6,
      "id": "b1e9c647",
      "metadata": {
        "id": "b1e9c647"
      },
      "outputs": [],
      "source": [
        "from sklearn.model_selection import train_test_split\n",
        "from sklearn.preprocessing import LabelEncoder"
      ]
    },
    {
      "cell_type": "code",
      "execution_count": 7,
      "id": "4cb2e972",
      "metadata": {
        "id": "4cb2e972"
      },
      "outputs": [],
      "source": [
        "X = dataset.drop('prognosis', axis=1)\n",
        "y = dataset['prognosis']\n",
        "\n",
        "# ecoding prognonsis\n",
        "le = LabelEncoder()\n",
        "le.fit(y)\n",
        "Y = le.transform(y)\n",
        "\n",
        "X_train, X_test, y_train, y_test = train_test_split(X, Y, test_size=0.3, random_state=20)"
      ]
    },
    {
      "cell_type": "markdown",
      "id": "1c1a9ed2",
      "metadata": {
        "id": "1c1a9ed2"
      },
      "source": [
        "# Training top models"
      ]
    },
    {
      "cell_type": "code",
      "execution_count": 8,
      "id": "89_pNB4kIyQz",
      "metadata": {
        "colab": {
          "base_uri": "https://localhost:8080/"
        },
        "id": "89_pNB4kIyQz",
        "outputId": "77437634-89dd-4bf6-98c8-9e8b3c7a0544"
      },
      "outputs": [
        {
          "name": "stdout",
          "output_type": "stream",
          "text": [
            "SVC Accuracy: 1.0\n",
            "SVC Confusion Matrix:\n",
            "[[40,  0,  0, ...,  0,  0,  0],\n",
            " [ 0, 43,  0, ...,  0,  0,  0],\n",
            " [ 0,  0, 28, ...,  0,  0,  0],\n",
            " ...,\n",
            " [ 0,  0,  0, ..., 34,  0,  0],\n",
            " [ 0,  0,  0, ...,  0, 41,  0],\n",
            " [ 0,  0,  0, ...,  0,  0, 31]]\n",
            "\n",
            "========================================\n",
            "\n",
            "RandomForest Accuracy: 1.0\n",
            "RandomForest Confusion Matrix:\n",
            "[[40,  0,  0, ...,  0,  0,  0],\n",
            " [ 0, 43,  0, ...,  0,  0,  0],\n",
            " [ 0,  0, 28, ...,  0,  0,  0],\n",
            " ...,\n",
            " [ 0,  0,  0, ..., 34,  0,  0],\n",
            " [ 0,  0,  0, ...,  0, 41,  0],\n",
            " [ 0,  0,  0, ...,  0,  0, 31]]\n",
            "\n",
            "========================================\n",
            "\n",
            "GradientBoosting Accuracy: 1.0\n",
            "GradientBoosting Confusion Matrix:\n",
            "[[40,  0,  0, ...,  0,  0,  0],\n",
            " [ 0, 43,  0, ...,  0,  0,  0],\n",
            " [ 0,  0, 28, ...,  0,  0,  0],\n",
            " ...,\n",
            " [ 0,  0,  0, ..., 34,  0,  0],\n",
            " [ 0,  0,  0, ...,  0, 41,  0],\n",
            " [ 0,  0,  0, ...,  0,  0, 31]]\n",
            "\n",
            "========================================\n",
            "\n",
            "KNeighbors Accuracy: 1.0\n",
            "KNeighbors Confusion Matrix:\n",
            "[[40,  0,  0, ...,  0,  0,  0],\n",
            " [ 0, 43,  0, ...,  0,  0,  0],\n",
            " [ 0,  0, 28, ...,  0,  0,  0],\n",
            " ...,\n",
            " [ 0,  0,  0, ..., 34,  0,  0],\n",
            " [ 0,  0,  0, ...,  0, 41,  0],\n",
            " [ 0,  0,  0, ...,  0,  0, 31]]\n",
            "\n",
            "========================================\n",
            "\n",
            "MultinomialNB Accuracy: 1.0\n",
            "MultinomialNB Confusion Matrix:\n",
            "[[40,  0,  0, ...,  0,  0,  0],\n",
            " [ 0, 43,  0, ...,  0,  0,  0],\n",
            " [ 0,  0, 28, ...,  0,  0,  0],\n",
            " ...,\n",
            " [ 0,  0,  0, ..., 34,  0,  0],\n",
            " [ 0,  0,  0, ...,  0, 41,  0],\n",
            " [ 0,  0,  0, ...,  0,  0, 31]]\n",
            "\n",
            "========================================\n",
            "\n"
          ]
        }
      ],
      "source": [
        "from sklearn.datasets import make_classification\n",
        "from sklearn.model_selection import train_test_split\n",
        "from sklearn.svm import SVC\n",
        "from sklearn.ensemble import RandomForestClassifier, GradientBoostingClassifier\n",
        "from sklearn.neighbors import KNeighborsClassifier\n",
        "from sklearn.naive_bayes import MultinomialNB\n",
        "from sklearn.metrics import accuracy_score, confusion_matrix\n",
        "import numpy as np\n",
        "\n",
        "# Dictionary to store model parameters\n",
        "model_params = {\n",
        "    'SVC': {'kernel': 'linear'},\n",
        "    'RandomForest': {'n_estimators': 100, 'random_state': 42},\n",
        "    'GradientBoosting': {'n_estimators': 100, 'random_state': 42},\n",
        "    'KNeighbors': {'n_neighbors': 5},\n",
        "    'MultinomialNB': {}  # MultinomialNB does not need parameters for this example\n",
        "}\n",
        "\n",
        "# Function to return a model based on name and parameters\n",
        "def get_model(model_name):\n",
        "    if model_name == 'SVC':\n",
        "        return SVC(**model_params[model_name])\n",
        "    elif model_name == 'RandomForest':\n",
        "        return RandomForestClassifier(**model_params[model_name])\n",
        "    elif model_name == 'GradientBoosting':\n",
        "        return GradientBoostingClassifier(**model_params[model_name])\n",
        "    elif model_name == 'KNeighbors':\n",
        "        return KNeighborsClassifier(**model_params[model_name])\n",
        "    elif model_name == 'MultinomialNB':\n",
        "        return MultinomialNB(**model_params[model_name])\n",
        "    else:\n",
        "        raise ValueError(f\"Model {model_name} not recognized\")\n",
        "\n",
        "# List of model names\n",
        "model_names = ['SVC', 'RandomForest', 'GradientBoosting', 'KNeighbors', 'MultinomialNB']\n",
        "\n",
        "# Dictionary to store accuracies for each model\n",
        "model_accuracies = {}\n",
        "\n",
        "# Loop through the models, train, test, and print results\n",
        "for model_name in model_names:\n",
        "    model = get_model(model_name)\n",
        "\n",
        "    # Train the model\n",
        "    model.fit(X_train, y_train)\n",
        "\n",
        "    # Test the model\n",
        "    predictions = model.predict(X_test)\n",
        "\n",
        "    # Calculate accuracy\n",
        "    accuracy = accuracy_score(y_test, predictions)\n",
        "\n",
        "    # Save accuracy to dictionary\n",
        "    model_accuracies[model_name] = accuracy\n",
        "\n",
        "    print(f\"{model_name} Accuracy: {accuracy}\")\n",
        "\n",
        "    # Calculate confusion matrix\n",
        "    cm = confusion_matrix(y_test, predictions)\n",
        "    print(f\"{model_name} Confusion Matrix:\")\n",
        "    print(np.array2string(cm, separator=', '))\n",
        "\n",
        "    print(\"\\n\" + \"=\"*40 + \"\\n\")\n"
      ]
    },
    {
      "cell_type": "markdown",
      "id": "36cee3c8",
      "metadata": {
        "id": "36cee3c8"
      },
      "source": [
        "# single prediction"
      ]
    },
    {
      "cell_type": "code",
      "execution_count": 9,
      "id": "a74ad639",
      "metadata": {
        "colab": {
          "base_uri": "https://localhost:8080/"
        },
        "id": "a74ad639",
        "outputId": "3b886fb1-29ac-4bc6-df0b-ae807a0f133c"
      },
      "outputs": [
        {
          "data": {
            "text/plain": [
              "1.0"
            ]
          },
          "execution_count": 9,
          "metadata": {},
          "output_type": "execute_result"
        }
      ],
      "source": [
        "# selecting svc\n",
        "svc = SVC(kernel='linear')\n",
        "svc.fit(X_train,y_train)\n",
        "ypred = svc.predict(X_test)\n",
        "accuracy_score(y_test,ypred)"
      ]
    },
    {
      "cell_type": "code",
      "execution_count": 10,
      "id": "fdd98daa",
      "metadata": {
        "id": "fdd98daa"
      },
      "outputs": [],
      "source": [
        "# save svc\n",
        "import pickle\n",
        "pickle.dump(svc,open('svc.pkl','wb'))"
      ]
    },
    {
      "cell_type": "code",
      "execution_count": 12,
      "id": "4dd13145",
      "metadata": {
        "id": "4dd13145"
      },
      "outputs": [],
      "source": [
        "# load model\n",
        "svc = pickle.load(open('svc.pkl','rb'))"
      ]
    },
    {
      "cell_type": "code",
      "execution_count": 13,
      "id": "8bf40f9d",
      "metadata": {
        "colab": {
          "base_uri": "https://localhost:8080/"
        },
        "id": "8bf40f9d",
        "outputId": "8e6dd58b-163d-452e-f967-d4f747805df1"
      },
      "outputs": [
        {
          "name": "stdout",
          "output_type": "stream",
          "text": [
            "predicted disease : [40]\n",
            "Actual Disease : 40\n"
          ]
        },
        {
          "name": "stderr",
          "output_type": "stream",
          "text": [
            "C:\\Users\\youss\\AppData\\Roaming\\Python\\Python312\\site-packages\\sklearn\\base.py:439: UserWarning: X does not have valid feature names, but SVC was fitted with feature names\n",
            "  warnings.warn(\n"
          ]
        }
      ],
      "source": [
        "# test 1:\n",
        "print(\"predicted disease :\",svc.predict(X_test.iloc[0].values.reshape(1,-1)))\n",
        "print(\"Actual Disease :\", y_test[0])"
      ]
    },
    {
      "cell_type": "code",
      "execution_count": 14,
      "id": "786bfd1a",
      "metadata": {
        "colab": {
          "base_uri": "https://localhost:8080/"
        },
        "id": "786bfd1a",
        "outputId": "1fa40c65-91f5-4d6f-f3fc-be47d2722a0b"
      },
      "outputs": [
        {
          "name": "stdout",
          "output_type": "stream",
          "text": [
            "predicted disease : [39]\n",
            "Actual Disease : 39\n"
          ]
        },
        {
          "name": "stderr",
          "output_type": "stream",
          "text": [
            "C:\\Users\\youss\\AppData\\Roaming\\Python\\Python312\\site-packages\\sklearn\\base.py:439: UserWarning: X does not have valid feature names, but SVC was fitted with feature names\n",
            "  warnings.warn(\n"
          ]
        }
      ],
      "source": [
        "# test 2:\n",
        "print(\"predicted disease :\",svc.predict(X_test.iloc[100].values.reshape(1,-1)))\n",
        "print(\"Actual Disease :\", y_test[100])"
      ]
    },
    {
      "cell_type": "code",
      "execution_count": 15,
      "id": "_1lqpB3uM6rE",
      "metadata": {
        "colab": {
          "base_uri": "https://localhost:8080/"
        },
        "id": "_1lqpB3uM6rE",
        "outputId": "5847f3eb-0b99-46da-a9e0-379480aef8be"
      },
      "outputs": [
        {
          "data": {
            "text/plain": [
              "{'kernel': 'linear'}"
            ]
          },
          "execution_count": 15,
          "metadata": {},
          "output_type": "execute_result"
        }
      ],
      "source": [
        "model_params['SVC']"
      ]
    },
    {
      "cell_type": "code",
      "execution_count": 16,
      "id": "1PxozWnRNv3A",
      "metadata": {
        "id": "1PxozWnRNv3A"
      },
      "outputs": [],
      "source": [
        "main_model = SVC(**model_params['SVC'])"
      ]
    },
    {
      "cell_type": "code",
      "execution_count": 17,
      "id": "1u4Wqp1JXHKe",
      "metadata": {
        "colab": {
          "base_uri": "https://localhost:8080/"
        },
        "id": "1u4Wqp1JXHKe",
        "outputId": "abb082e4-c5c4-4b88-b890-dc631f9562fc"
      },
      "outputs": [
        {
          "name": "stdout",
          "output_type": "stream",
          "text": [
            "Defaulting to user installation because normal site-packages is not writeable\n",
            "Collecting mlflow\n",
            "  Downloading mlflow-2.17.0-py3-none-any.whl.metadata (29 kB)\n",
            "Collecting mlflow-skinny==2.17.0 (from mlflow)\n",
            "  Downloading mlflow_skinny-2.17.0-py3-none-any.whl.metadata (30 kB)\n",
            "Requirement already satisfied: Flask<4 in c:\\users\\youss\\appdata\\roaming\\python\\python312\\site-packages (from mlflow) (3.0.0)\n",
            "Collecting alembic!=1.10.0,<2 (from mlflow)\n",
            "  Downloading alembic-1.13.3-py3-none-any.whl.metadata (7.4 kB)\n",
            "Collecting docker<8,>=4.0.0 (from mlflow)\n",
            "  Downloading docker-7.1.0-py3-none-any.whl.metadata (3.8 kB)\n",
            "Collecting graphene<4 (from mlflow)\n",
            "  Downloading graphene-3.3-py2.py3-none-any.whl.metadata (7.7 kB)\n",
            "Requirement already satisfied: markdown<4,>=3.3 in c:\\users\\youss\\appdata\\roaming\\python\\python312\\site-packages (from mlflow) (3.7)\n",
            "Requirement already satisfied: matplotlib<4 in c:\\users\\youss\\appdata\\roaming\\python\\python312\\site-packages (from mlflow) (3.8.2)\n",
            "Requirement already satisfied: numpy<3 in c:\\users\\youss\\appdata\\roaming\\python\\python312\\site-packages (from mlflow) (1.26.4)\n",
            "Requirement already satisfied: pandas<3 in c:\\users\\youss\\appdata\\roaming\\python\\python312\\site-packages (from mlflow) (2.1.4)\n",
            "Requirement already satisfied: pyarrow<18,>=4.0.0 in c:\\users\\youss\\appdata\\roaming\\python\\python312\\site-packages (from mlflow) (16.1.0)\n",
            "Requirement already satisfied: scikit-learn<2 in c:\\users\\youss\\appdata\\roaming\\python\\python312\\site-packages (from mlflow) (1.2.2)\n",
            "Requirement already satisfied: scipy<2 in c:\\users\\youss\\appdata\\roaming\\python\\python312\\site-packages (from mlflow) (1.11.4)\n",
            "Requirement already satisfied: sqlalchemy<3,>=1.4.0 in c:\\users\\youss\\appdata\\roaming\\python\\python312\\site-packages (from mlflow) (2.0.34)\n",
            "Requirement already satisfied: Jinja2<4,>=3.0 in c:\\users\\youss\\appdata\\roaming\\python\\python312\\site-packages (from mlflow) (3.1.3)\n",
            "Collecting waitress<4 (from mlflow)\n",
            "  Downloading waitress-3.0.0-py3-none-any.whl.metadata (4.2 kB)\n",
            "Requirement already satisfied: cachetools<6,>=5.0.0 in c:\\users\\youss\\appdata\\roaming\\python\\python312\\site-packages (from mlflow-skinny==2.17.0->mlflow) (5.3.3)\n",
            "Requirement already satisfied: click<9,>=7.0 in c:\\users\\youss\\appdata\\roaming\\python\\python312\\site-packages (from mlflow-skinny==2.17.0->mlflow) (8.1.7)\n",
            "Collecting cloudpickle<4 (from mlflow-skinny==2.17.0->mlflow)\n",
            "  Downloading cloudpickle-3.1.0-py3-none-any.whl.metadata (7.0 kB)\n",
            "Collecting databricks-sdk<1,>=0.20.0 (from mlflow-skinny==2.17.0->mlflow)\n",
            "  Downloading databricks_sdk-0.34.0-py3-none-any.whl.metadata (37 kB)\n",
            "Requirement already satisfied: gitpython<4,>=3.1.9 in c:\\users\\youss\\appdata\\roaming\\python\\python312\\site-packages (from mlflow-skinny==2.17.0->mlflow) (3.1.43)\n",
            "Requirement already satisfied: importlib-metadata!=4.7.0,<9,>=3.7.0 in c:\\users\\youss\\appdata\\roaming\\python\\python312\\site-packages (from mlflow-skinny==2.17.0->mlflow) (7.0.1)\n",
            "Collecting opentelemetry-api<3,>=1.9.0 (from mlflow-skinny==2.17.0->mlflow)\n",
            "  Using cached opentelemetry_api-1.27.0-py3-none-any.whl.metadata (1.4 kB)\n",
            "Collecting opentelemetry-sdk<3,>=1.9.0 (from mlflow-skinny==2.17.0->mlflow)\n",
            "  Using cached opentelemetry_sdk-1.27.0-py3-none-any.whl.metadata (1.5 kB)\n",
            "Requirement already satisfied: packaging<25 in c:\\users\\youss\\appdata\\roaming\\python\\python312\\site-packages (from mlflow-skinny==2.17.0->mlflow) (23.2)\n",
            "Requirement already satisfied: protobuf<6,>=3.12.0 in c:\\users\\youss\\appdata\\roaming\\python\\python312\\site-packages (from mlflow-skinny==2.17.0->mlflow) (4.25.3)\n",
            "Requirement already satisfied: pyyaml<7,>=5.1 in c:\\users\\youss\\appdata\\roaming\\python\\python312\\site-packages (from mlflow-skinny==2.17.0->mlflow) (6.0.1)\n",
            "Requirement already satisfied: requests<3,>=2.17.3 in c:\\users\\youss\\appdata\\roaming\\python\\python312\\site-packages (from mlflow-skinny==2.17.0->mlflow) (2.31.0)\n",
            "Requirement already satisfied: sqlparse<1,>=0.4.0 in c:\\users\\youss\\appdata\\roaming\\python\\python312\\site-packages (from mlflow-skinny==2.17.0->mlflow) (0.5.1)\n",
            "Collecting Mako (from alembic!=1.10.0,<2->mlflow)\n",
            "  Downloading Mako-1.3.5-py3-none-any.whl.metadata (2.9 kB)\n",
            "Requirement already satisfied: typing-extensions>=4 in c:\\users\\youss\\appdata\\roaming\\python\\python312\\site-packages (from alembic!=1.10.0,<2->mlflow) (4.12.2)\n",
            "Requirement already satisfied: pywin32>=304 in c:\\users\\youss\\appdata\\roaming\\python\\python312\\site-packages (from docker<8,>=4.0.0->mlflow) (306)\n",
            "Requirement already satisfied: urllib3>=1.26.0 in c:\\users\\youss\\appdata\\roaming\\python\\python312\\site-packages (from docker<8,>=4.0.0->mlflow) (2.1.0)\n",
            "Requirement already satisfied: Werkzeug>=3.0.0 in c:\\users\\youss\\appdata\\roaming\\python\\python312\\site-packages (from Flask<4->mlflow) (3.0.1)\n",
            "Requirement already satisfied: itsdangerous>=2.1.2 in c:\\users\\youss\\appdata\\roaming\\python\\python312\\site-packages (from Flask<4->mlflow) (2.1.2)\n",
            "Requirement already satisfied: blinker>=1.6.2 in c:\\users\\youss\\appdata\\roaming\\python\\python312\\site-packages (from Flask<4->mlflow) (1.7.0)\n",
            "Collecting graphql-core<3.3,>=3.1 (from graphene<4->mlflow)\n",
            "  Downloading graphql_core-3.2.5-py3-none-any.whl.metadata (10 kB)\n",
            "Collecting graphql-relay<3.3,>=3.1 (from graphene<4->mlflow)\n",
            "  Downloading graphql_relay-3.2.0-py3-none-any.whl.metadata (12 kB)\n",
            "Collecting aniso8601<10,>=8 (from graphene<4->mlflow)\n",
            "  Downloading aniso8601-9.0.1-py2.py3-none-any.whl.metadata (23 kB)\n",
            "Requirement already satisfied: MarkupSafe>=2.0 in c:\\users\\youss\\appdata\\roaming\\python\\python312\\site-packages (from Jinja2<4,>=3.0->mlflow) (2.1.4)\n",
            "Requirement already satisfied: contourpy>=1.0.1 in c:\\users\\youss\\appdata\\roaming\\python\\python312\\site-packages (from matplotlib<4->mlflow) (1.2.0)\n",
            "Requirement already satisfied: cycler>=0.10 in c:\\users\\youss\\appdata\\roaming\\python\\python312\\site-packages (from matplotlib<4->mlflow) (0.12.1)\n",
            "Requirement already satisfied: fonttools>=4.22.0 in c:\\users\\youss\\appdata\\roaming\\python\\python312\\site-packages (from matplotlib<4->mlflow) (4.47.0)\n",
            "Requirement already satisfied: kiwisolver>=1.3.1 in c:\\users\\youss\\appdata\\roaming\\python\\python312\\site-packages (from matplotlib<4->mlflow) (1.4.5)\n",
            "Requirement already satisfied: pillow>=8 in c:\\users\\youss\\appdata\\roaming\\python\\python312\\site-packages (from matplotlib<4->mlflow) (10.1.0)\n",
            "Requirement already satisfied: pyparsing>=2.3.1 in c:\\users\\youss\\appdata\\roaming\\python\\python312\\site-packages (from matplotlib<4->mlflow) (3.1.1)\n",
            "Requirement already satisfied: python-dateutil>=2.7 in c:\\users\\youss\\appdata\\roaming\\python\\python312\\site-packages (from matplotlib<4->mlflow) (2.8.2)\n",
            "Requirement already satisfied: pytz>=2020.1 in c:\\users\\youss\\appdata\\roaming\\python\\python312\\site-packages (from pandas<3->mlflow) (2023.3.post1)\n",
            "Requirement already satisfied: tzdata>=2022.1 in c:\\users\\youss\\appdata\\roaming\\python\\python312\\site-packages (from pandas<3->mlflow) (2023.4)\n",
            "Requirement already satisfied: joblib>=1.1.1 in c:\\users\\youss\\appdata\\roaming\\python\\python312\\site-packages (from scikit-learn<2->mlflow) (1.3.2)\n",
            "Requirement already satisfied: threadpoolctl>=2.0.0 in c:\\users\\youss\\appdata\\roaming\\python\\python312\\site-packages (from scikit-learn<2->mlflow) (3.2.0)\n",
            "Requirement already satisfied: greenlet!=0.4.17 in c:\\users\\youss\\appdata\\roaming\\python\\python312\\site-packages (from sqlalchemy<3,>=1.4.0->mlflow) (3.0.3)\n",
            "Requirement already satisfied: colorama in c:\\users\\youss\\appdata\\roaming\\python\\python312\\site-packages (from click<9,>=7.0->mlflow-skinny==2.17.0->mlflow) (0.4.6)\n",
            "Collecting google-auth~=2.0 (from databricks-sdk<1,>=0.20.0->mlflow-skinny==2.17.0->mlflow)\n",
            "  Downloading google_auth-2.35.0-py2.py3-none-any.whl.metadata (4.7 kB)\n",
            "Requirement already satisfied: gitdb<5,>=4.0.1 in c:\\users\\youss\\appdata\\roaming\\python\\python312\\site-packages (from gitpython<4,>=3.1.9->mlflow-skinny==2.17.0->mlflow) (4.0.11)\n",
            "Requirement already satisfied: zipp>=0.5 in c:\\users\\youss\\appdata\\roaming\\python\\python312\\site-packages (from importlib-metadata!=4.7.0,<9,>=3.7.0->mlflow-skinny==2.17.0->mlflow) (3.17.0)\n",
            "Requirement already satisfied: deprecated>=1.2.6 in c:\\users\\youss\\appdata\\roaming\\python\\python312\\site-packages (from opentelemetry-api<3,>=1.9.0->mlflow-skinny==2.17.0->mlflow) (1.2.14)\n",
            "Collecting opentelemetry-semantic-conventions==0.48b0 (from opentelemetry-sdk<3,>=1.9.0->mlflow-skinny==2.17.0->mlflow)\n",
            "  Using cached opentelemetry_semantic_conventions-0.48b0-py3-none-any.whl.metadata (2.4 kB)\n",
            "Requirement already satisfied: six>=1.5 in c:\\users\\youss\\appdata\\roaming\\python\\python312\\site-packages (from python-dateutil>=2.7->matplotlib<4->mlflow) (1.16.0)\n",
            "Requirement already satisfied: charset-normalizer<4,>=2 in c:\\users\\youss\\appdata\\roaming\\python\\python312\\site-packages (from requests<3,>=2.17.3->mlflow-skinny==2.17.0->mlflow) (3.3.2)\n",
            "Requirement already satisfied: idna<4,>=2.5 in c:\\users\\youss\\appdata\\roaming\\python\\python312\\site-packages (from requests<3,>=2.17.3->mlflow-skinny==2.17.0->mlflow) (3.6)\n",
            "Requirement already satisfied: certifi>=2017.4.17 in c:\\users\\youss\\appdata\\roaming\\python\\python312\\site-packages (from requests<3,>=2.17.3->mlflow-skinny==2.17.0->mlflow) (2024.8.30)\n",
            "Requirement already satisfied: wrapt<2,>=1.10 in c:\\users\\youss\\appdata\\roaming\\python\\python312\\site-packages (from deprecated>=1.2.6->opentelemetry-api<3,>=1.9.0->mlflow-skinny==2.17.0->mlflow) (1.16.0)\n",
            "Requirement already satisfied: smmap<6,>=3.0.1 in c:\\users\\youss\\appdata\\roaming\\python\\python312\\site-packages (from gitdb<5,>=4.0.1->gitpython<4,>=3.1.9->mlflow-skinny==2.17.0->mlflow) (5.0.1)\n",
            "Collecting pyasn1-modules>=0.2.1 (from google-auth~=2.0->databricks-sdk<1,>=0.20.0->mlflow-skinny==2.17.0->mlflow)\n",
            "  Downloading pyasn1_modules-0.4.1-py3-none-any.whl.metadata (3.5 kB)\n",
            "Collecting rsa<5,>=3.1.4 (from google-auth~=2.0->databricks-sdk<1,>=0.20.0->mlflow-skinny==2.17.0->mlflow)\n",
            "  Using cached rsa-4.9-py3-none-any.whl.metadata (4.2 kB)\n",
            "Collecting pyasn1<0.7.0,>=0.4.6 (from pyasn1-modules>=0.2.1->google-auth~=2.0->databricks-sdk<1,>=0.20.0->mlflow-skinny==2.17.0->mlflow)\n",
            "  Downloading pyasn1-0.6.1-py3-none-any.whl.metadata (8.4 kB)\n",
            "Downloading mlflow-2.17.0-py3-none-any.whl (26.7 MB)\n",
            "   ---------------------------------------- 0.0/26.7 MB ? eta -:--:--\n",
            "   ---------------------------------------- 0.0/26.7 MB ? eta -:--:--\n",
            "   ---------------------------------------- 0.3/26.7 MB ? eta -:--:--\n",
            "   - -------------------------------------- 1.0/26.7 MB 1.9 MB/s eta 0:00:14\n",
            "   - -------------------------------------- 1.3/26.7 MB 1.9 MB/s eta 0:00:14\n",
            "   -- ------------------------------------- 1.8/26.7 MB 2.1 MB/s eta 0:00:13\n",
            "   --- ------------------------------------ 2.4/26.7 MB 2.1 MB/s eta 0:00:12\n",
            "   ---- ----------------------------------- 2.9/26.7 MB 2.2 MB/s eta 0:00:12\n",
            "   ----- ---------------------------------- 3.4/26.7 MB 2.2 MB/s eta 0:00:11\n",
            "   ----- ---------------------------------- 3.9/26.7 MB 2.2 MB/s eta 0:00:11\n",
            "   ------ --------------------------------- 4.5/26.7 MB 2.2 MB/s eta 0:00:11\n",
            "   ------- -------------------------------- 4.7/26.7 MB 2.2 MB/s eta 0:00:11\n",
            "   ------- -------------------------------- 5.2/26.7 MB 2.2 MB/s eta 0:00:10\n",
            "   -------- ------------------------------- 5.8/26.7 MB 2.2 MB/s eta 0:00:10\n",
            "   --------- ------------------------------ 6.3/26.7 MB 2.2 MB/s eta 0:00:10\n",
            "   ---------- ----------------------------- 6.8/26.7 MB 2.3 MB/s eta 0:00:09\n",
            "   ---------- ----------------------------- 7.3/26.7 MB 2.3 MB/s eta 0:00:09\n",
            "   ----------- ---------------------------- 7.9/26.7 MB 2.3 MB/s eta 0:00:09\n",
            "   ------------ --------------------------- 8.4/26.7 MB 2.3 MB/s eta 0:00:09\n",
            "   ------------- -------------------------- 8.9/26.7 MB 2.3 MB/s eta 0:00:08\n",
            "   -------------- ------------------------- 9.4/26.7 MB 2.3 MB/s eta 0:00:08\n",
            "   -------------- ------------------------- 10.0/26.7 MB 2.3 MB/s eta 0:00:08\n",
            "   --------------- ------------------------ 10.5/26.7 MB 2.3 MB/s eta 0:00:08\n",
            "   ---------------- ----------------------- 11.0/26.7 MB 2.3 MB/s eta 0:00:07\n",
            "   ---------------- ----------------------- 11.3/26.7 MB 2.3 MB/s eta 0:00:07\n",
            "   ----------------- ---------------------- 11.8/26.7 MB 2.3 MB/s eta 0:00:07\n",
            "   ------------------ --------------------- 12.3/26.7 MB 2.3 MB/s eta 0:00:07\n",
            "   ------------------- -------------------- 12.8/26.7 MB 2.3 MB/s eta 0:00:07\n",
            "   ------------------- -------------------- 13.4/26.7 MB 2.3 MB/s eta 0:00:06\n",
            "   -------------------- ------------------- 13.9/26.7 MB 2.3 MB/s eta 0:00:06\n",
            "   --------------------- ------------------ 14.4/26.7 MB 2.3 MB/s eta 0:00:06\n",
            "   ---------------------- ----------------- 14.9/26.7 MB 2.3 MB/s eta 0:00:06\n",
            "   ----------------------- ---------------- 15.5/26.7 MB 2.3 MB/s eta 0:00:05\n",
            "   ----------------------- ---------------- 16.0/26.7 MB 2.3 MB/s eta 0:00:05\n",
            "   ------------------------ --------------- 16.5/26.7 MB 2.3 MB/s eta 0:00:05\n",
            "   ------------------------- -------------- 16.8/26.7 MB 2.3 MB/s eta 0:00:05\n",
            "   ------------------------- -------------- 17.3/26.7 MB 2.3 MB/s eta 0:00:05\n",
            "   -------------------------- ------------- 17.8/26.7 MB 2.3 MB/s eta 0:00:04\n",
            "   -------------------------- ------------- 17.8/26.7 MB 2.3 MB/s eta 0:00:04\n",
            "   --------------------------- ------------ 18.4/26.7 MB 2.2 MB/s eta 0:00:04\n",
            "   --------------------------- ------------ 18.6/26.7 MB 2.2 MB/s eta 0:00:04\n",
            "   ---------------------------- ----------- 19.1/26.7 MB 2.2 MB/s eta 0:00:04\n",
            "   ----------------------------- ---------- 19.7/26.7 MB 2.2 MB/s eta 0:00:04\n",
            "   ----------------------------- ---------- 19.9/26.7 MB 2.2 MB/s eta 0:00:04\n",
            "   ------------------------------ --------- 20.2/26.7 MB 2.2 MB/s eta 0:00:03\n",
            "   ------------------------------ --------- 20.4/26.7 MB 2.2 MB/s eta 0:00:03\n",
            "   ------------------------------- -------- 21.0/26.7 MB 2.2 MB/s eta 0:00:03\n",
            "   ------------------------------- -------- 21.2/26.7 MB 2.1 MB/s eta 0:00:03\n",
            "   -------------------------------- ------- 21.8/26.7 MB 2.1 MB/s eta 0:00:03\n",
            "   -------------------------------- ------- 22.0/26.7 MB 2.1 MB/s eta 0:00:03\n",
            "   --------------------------------- ------ 22.3/26.7 MB 2.1 MB/s eta 0:00:03\n",
            "   --------------------------------- ------ 22.5/26.7 MB 2.1 MB/s eta 0:00:02\n",
            "   ---------------------------------- ----- 23.1/26.7 MB 2.1 MB/s eta 0:00:02\n",
            "   ---------------------------------- ----- 23.3/26.7 MB 2.1 MB/s eta 0:00:02\n",
            "   ----------------------------------- ---- 23.6/26.7 MB 2.1 MB/s eta 0:00:02\n",
            "   ----------------------------------- ---- 23.9/26.7 MB 2.0 MB/s eta 0:00:02\n",
            "   ------------------------------------ --- 24.1/26.7 MB 2.0 MB/s eta 0:00:02\n",
            "   ------------------------------------ --- 24.6/26.7 MB 2.1 MB/s eta 0:00:02\n",
            "   ------------------------------------- -- 24.9/26.7 MB 2.0 MB/s eta 0:00:01\n",
            "   ------------------------------------- -- 25.2/26.7 MB 2.0 MB/s eta 0:00:01\n",
            "   -------------------------------------- - 25.4/26.7 MB 2.0 MB/s eta 0:00:01\n",
            "   -------------------------------------- - 25.7/26.7 MB 2.0 MB/s eta 0:00:01\n",
            "   -------------------------------------- - 26.0/26.7 MB 2.0 MB/s eta 0:00:01\n",
            "   ---------------------------------------  26.5/26.7 MB 2.0 MB/s eta 0:00:01\n",
            "   ---------------------------------------  26.7/26.7 MB 2.0 MB/s eta 0:00:01\n",
            "   ---------------------------------------- 26.7/26.7 MB 2.0 MB/s eta 0:00:00\n",
            "Downloading mlflow_skinny-2.17.0-py3-none-any.whl (5.7 MB)\n",
            "   ---------------------------------------- 0.0/5.7 MB ? eta -:--:--\n",
            "   ---------------------------------------- 0.0/5.7 MB ? eta -:--:--\n",
            "   --- ------------------------------------ 0.5/5.7 MB 2.8 MB/s eta 0:00:02\n",
            "   ------- -------------------------------- 1.0/5.7 MB 2.5 MB/s eta 0:00:02\n",
            "   ----------- ---------------------------- 1.6/5.7 MB 2.5 MB/s eta 0:00:02\n",
            "   -------------- ------------------------- 2.1/5.7 MB 2.4 MB/s eta 0:00:02\n",
            "   ------------------ --------------------- 2.6/5.7 MB 2.4 MB/s eta 0:00:02\n",
            "   ---------------------- ----------------- 3.1/5.7 MB 2.4 MB/s eta 0:00:02\n",
            "   ------------------------ --------------- 3.4/5.7 MB 2.4 MB/s eta 0:00:01\n",
            "   --------------------------- ------------ 3.9/5.7 MB 2.4 MB/s eta 0:00:01\n",
            "   ------------------------------- -------- 4.5/5.7 MB 2.4 MB/s eta 0:00:01\n",
            "   ----------------------------------- ---- 5.0/5.7 MB 2.4 MB/s eta 0:00:01\n",
            "   -------------------------------------- - 5.5/5.7 MB 2.4 MB/s eta 0:00:01\n",
            "   ---------------------------------------- 5.7/5.7 MB 2.3 MB/s eta 0:00:00\n",
            "Downloading alembic-1.13.3-py3-none-any.whl (233 kB)\n",
            "Downloading docker-7.1.0-py3-none-any.whl (147 kB)\n",
            "Downloading graphene-3.3-py2.py3-none-any.whl (128 kB)\n",
            "Downloading waitress-3.0.0-py3-none-any.whl (56 kB)\n",
            "Downloading aniso8601-9.0.1-py2.py3-none-any.whl (52 kB)\n",
            "Downloading cloudpickle-3.1.0-py3-none-any.whl (22 kB)\n",
            "Downloading databricks_sdk-0.34.0-py3-none-any.whl (565 kB)\n",
            "   ---------------------------------------- 0.0/565.6 kB ? eta -:--:--\n",
            "   ------------------ --------------------- 262.1/565.6 kB ? eta -:--:--\n",
            "   ---------------------------------------- 565.6/565.6 kB 1.8 MB/s eta 0:00:00\n",
            "Downloading graphql_core-3.2.5-py3-none-any.whl (203 kB)\n",
            "Downloading graphql_relay-3.2.0-py3-none-any.whl (16 kB)\n",
            "Using cached opentelemetry_api-1.27.0-py3-none-any.whl (63 kB)\n",
            "Using cached opentelemetry_sdk-1.27.0-py3-none-any.whl (110 kB)\n",
            "Using cached opentelemetry_semantic_conventions-0.48b0-py3-none-any.whl (149 kB)\n",
            "Downloading Mako-1.3.5-py3-none-any.whl (78 kB)\n",
            "Downloading google_auth-2.35.0-py2.py3-none-any.whl (208 kB)\n",
            "Downloading pyasn1_modules-0.4.1-py3-none-any.whl (181 kB)\n",
            "Using cached rsa-4.9-py3-none-any.whl (34 kB)\n",
            "Downloading pyasn1-0.6.1-py3-none-any.whl (83 kB)\n",
            "Installing collected packages: aniso8601, waitress, pyasn1, Mako, graphql-core, cloudpickle, rsa, pyasn1-modules, opentelemetry-api, graphql-relay, docker, alembic, opentelemetry-semantic-conventions, graphene, google-auth, opentelemetry-sdk, databricks-sdk, mlflow-skinny, mlflow\n",
            "Successfully installed Mako-1.3.5 alembic-1.13.3 aniso8601-9.0.1 cloudpickle-3.1.0 databricks-sdk-0.34.0 docker-7.1.0 google-auth-2.35.0 graphene-3.3 graphql-core-3.2.5 graphql-relay-3.2.0 mlflow-2.17.0 mlflow-skinny-2.17.0 opentelemetry-api-1.27.0 opentelemetry-sdk-1.27.0 opentelemetry-semantic-conventions-0.48b0 pyasn1-0.6.1 pyasn1-modules-0.4.1 rsa-4.9 waitress-3.0.0\n"
          ]
        },
        {
          "name": "stderr",
          "output_type": "stream",
          "text": [
            "DEPRECATION: Loading egg at c:\\program files\\python312\\lib\\site-packages\\vboxapi-1.0-py3.12.egg is deprecated. pip 24.3 will enforce this behaviour change. A possible replacement is to use pip for package installation. Discussion can be found at https://github.com/pypa/pip/issues/12330\n"
          ]
        }
      ],
      "source": [
        "!pip install mlflow"
      ]
    },
    {
      "cell_type": "code",
      "execution_count": 18,
      "id": "qoHfoantXH7U",
      "metadata": {
        "colab": {
          "base_uri": "https://localhost:8080/"
        },
        "id": "qoHfoantXH7U",
        "outputId": "4f0b5a11-ad96-4b5c-b641-8a3e59588d45"
      },
      "outputs": [
        {
          "name": "stdout",
          "output_type": "stream",
          "text": [
            "^C\n"
          ]
        }
      ],
      "source": [
        "!mlflow server --host 127.0.0.1 --port 8082 --backend-store-uri sqlite:///mlruns.db"
      ]
    },
    {
      "cell_type": "code",
      "execution_count": 19,
      "id": "6wjxLkMrEfCc",
      "metadata": {
        "colab": {
          "base_uri": "https://localhost:8080/",
          "height": 542
        },
        "id": "6wjxLkMrEfCc",
        "outputId": "8207fc9f-0802-42f8-c0e5-a3c69a4e16fd"
      },
      "outputs": [
        {
          "name": "stderr",
          "output_type": "stream",
          "text": [
            "2024/10/14 21:00:07 INFO mlflow.tracking.fluent: Experiment with name 'MLflow Quickstart' does not exist. Creating a new experiment.\n",
            "C:\\Users\\youss\\AppData\\Roaming\\Python\\Python312\\site-packages\\mlflow\\types\\utils.py:407: UserWarning: Hint: Inferred schema contains integer column(s). Integer columns in Python cannot represent missing values. If your input data contains missing values at inference time, it will be encoded as floats and will cause a schema enforcement error. The best way to avoid this problem is to infer the model schema based on a realistic data sample (training dataset) that includes missing values. Alternatively, you can declare integer columns as doubles (float64) whenever these columns may have missing values. See `Handling Integers With Missing Values <https://www.mlflow.org/docs/latest/models.html#handling-integers-with-missing-values>`_ for more details.\n",
            "  warnings.warn(\n",
            "Successfully registered model 'tracking-quickstart'.\n",
            "2024/10/14 21:00:37 INFO mlflow.store.model_registry.abstract_store: Waiting up to 300 seconds for model version to finish creation. Model name: tracking-quickstart, version 1\n",
            "Created version '1' of model 'tracking-quickstart'.\n"
          ]
        },
        {
          "data": {
            "application/vnd.jupyter.widget-view+json": {
              "model_id": "3ff5511aca244003a61ab4cee07b3851",
              "version_major": 2,
              "version_minor": 0
            },
            "text/plain": [
              "Downloading artifacts:   0%|          | 0/7 [00:00<?, ?it/s]"
            ]
          },
          "metadata": {},
          "output_type": "display_data"
        },
        {
          "name": "stderr",
          "output_type": "stream",
          "text": [
            "2024/10/14 21:01:02 INFO mlflow.tracking._tracking_service.client: 🏃 View run victorious-squid-741 at: http://127.0.0.1:8082/#/experiments/1/runs/4913a25540e9468f9e3e1b2106a80c1e.\n",
            "2024/10/14 21:01:02 INFO mlflow.tracking._tracking_service.client: 🧪 View experiment at: http://127.0.0.1:8082/#/experiments/1.\n"
          ]
        }
      ],
      "source": [
        "import mlflow\n",
        "from mlflow.models.signature import infer_signature\n",
        "from sklearn.svm import SVC\n",
        "import time\n",
        "import os\n",
        "\n",
        "# Start MLflow server in the background and ensure it keeps running\n",
        "# os.system(\"nohup mlflow server --host 127.0.0.1 --port 8082 --backend-store-uri sqlite:///mlruns.db &\")\n",
        "os.system(\"nohup mlflow server --host 127.0.0.1 --port 8082 --backend-store-uri sqlite:///mlruns.db\")\n",
        "\n",
        "\n",
        "# Give the server some time to initialize\n",
        "time.sleep(5)  # You might need to adjust this sleep time\n",
        "\n",
        "# Set our tracking server URI for logging\n",
        "mlflow.set_tracking_uri(uri=\"http://127.0.0.1:8082\")\n",
        "\n",
        "# Create a new MLflow Experiment\n",
        "mlflow.set_experiment(\"MLflow Quickstart\")\n",
        "\n",
        "# Start an MLflow run\n",
        "with mlflow.start_run():\n",
        "    # Log the hyperparameters\n",
        "    mlflow.log_params(model_params['SVC'])\n",
        "\n",
        "    # Initialize and fit the model # This line is added to fix the issue\n",
        "    main_model = SVC(**model_params['SVC'])\n",
        "    main_model.fit(X_train, y_train) # Assuming y_train is your target variable\n",
        "\n",
        "    # Log the loss metric\n",
        "    mlflow.log_metric(\"accuracy\", model_accuracies['SVC'])\n",
        "\n",
        "    # Set a tag that we can use to remind ourselves what this run was for\n",
        "    mlflow.set_tag(\"Training Info\", \"First Version of Medicine Recommendation System\")\n",
        "\n",
        "    # Infer the model signature\n",
        "    signature = infer_signature(X_train, main_model.predict(X_train))\n",
        "\n",
        "    # Log the model\n",
        "    model_info = mlflow.sklearn.log_model(\n",
        "        sk_model=main_model,\n",
        "        artifact_path=\"svc.pkl\",\n",
        "        signature=signature,\n",
        "        input_example=X_train,\n",
        "        registered_model_name=\"tracking-quickstart\",\n",
        "    )"
      ]
    },
    {
      "cell_type": "markdown",
      "id": "9ce6884a",
      "metadata": {
        "id": "9ce6884a"
      },
      "source": [
        "# Recommendation System and Prediction"
      ]
    },
    {
      "cell_type": "markdown",
      "id": "f53f59b8",
      "metadata": {
        "id": "f53f59b8"
      },
      "source": [
        "# load database and use logic for recommendations"
      ]
    },
    {
      "cell_type": "code",
      "execution_count": null,
      "id": "767ed813",
      "metadata": {
        "id": "767ed813"
      },
      "outputs": [],
      "source": [
        "sym_des = pd.read_csv(\"datasets/symtoms_df.csv\")\n",
        "precautions = pd.read_csv(\"datasets/precautions_df.csv\")\n",
        "workout = pd.read_csv(\"datasets/workout_df.csv\")\n",
        "description = pd.read_csv(\"datasets/description.csv\")\n",
        "medications = pd.read_csv('datasets/medications.csv')\n",
        "diets = pd.read_csv(\"datasets/diets.csv\")"
      ]
    },
    {
      "cell_type": "code",
      "execution_count": null,
      "id": "6cb123a9",
      "metadata": {
        "id": "6cb123a9"
      },
      "outputs": [],
      "source": [
        "#============================================================\n",
        "# custome and helping functions\n",
        "#==========================helper funtions================\n",
        "def helper(dis):\n",
        "    desc = description[description['Disease'] == predicted_disease]['Description']\n",
        "    desc = \" \".join([w for w in desc])\n",
        "\n",
        "    pre = precautions[precautions['Disease'] == dis][['Precaution_1', 'Precaution_2', 'Precaution_3', 'Precaution_4']]\n",
        "    pre = [col for col in pre.values]\n",
        "\n",
        "    med = medications[medications['Disease'] == dis]['Medication']\n",
        "    med = [med for med in med.values]\n",
        "\n",
        "    die = diets[diets['Disease'] == dis]['Diet']\n",
        "    die = [die for die in die.values]\n",
        "\n",
        "    wrkout = workout[workout['disease'] == dis] ['workout']\n",
        "\n",
        "\n",
        "    return desc,pre,med,die,wrkout\n",
        "\n",
        "symptoms_dict = {'itching': 0, 'skin_rash': 1, 'nodal_skin_eruptions': 2, 'continuous_sneezing': 3, 'shivering': 4, 'chills': 5, 'joint_pain': 6, 'stomach_pain': 7, 'acidity': 8, 'ulcers_on_tongue': 9, 'muscle_wasting': 10, 'vomiting': 11, 'burning_micturition': 12, 'spotting_ urination': 13, 'fatigue': 14, 'weight_gain': 15, 'anxiety': 16, 'cold_hands_and_feets': 17, 'mood_swings': 18, 'weight_loss': 19, 'restlessness': 20, 'lethargy': 21, 'patches_in_throat': 22, 'irregular_sugar_level': 23, 'cough': 24, 'high_fever': 25, 'sunken_eyes': 26, 'breathlessness': 27, 'sweating': 28, 'dehydration': 29, 'indigestion': 30, 'headache': 31, 'yellowish_skin': 32, 'dark_urine': 33, 'nausea': 34, 'loss_of_appetite': 35, 'pain_behind_the_eyes': 36, 'back_pain': 37, 'constipation': 38, 'abdominal_pain': 39, 'diarrhoea': 40, 'mild_fever': 41, 'yellow_urine': 42, 'yellowing_of_eyes': 43, 'acute_liver_failure': 44, 'fluid_overload': 45, 'swelling_of_stomach': 46, 'swelled_lymph_nodes': 47, 'malaise': 48, 'blurred_and_distorted_vision': 49, 'phlegm': 50, 'throat_irritation': 51, 'redness_of_eyes': 52, 'sinus_pressure': 53, 'runny_nose': 54, 'congestion': 55, 'chest_pain': 56, 'weakness_in_limbs': 57, 'fast_heart_rate': 58, 'pain_during_bowel_movements': 59, 'pain_in_anal_region': 60, 'bloody_stool': 61, 'irritation_in_anus': 62, 'neck_pain': 63, 'dizziness': 64, 'cramps': 65, 'bruising': 66, 'obesity': 67, 'swollen_legs': 68, 'swollen_blood_vessels': 69, 'puffy_face_and_eyes': 70, 'enlarged_thyroid': 71, 'brittle_nails': 72, 'swollen_extremeties': 73, 'excessive_hunger': 74, 'extra_marital_contacts': 75, 'drying_and_tingling_lips': 76, 'slurred_speech': 77, 'knee_pain': 78, 'hip_joint_pain': 79, 'muscle_weakness': 80, 'stiff_neck': 81, 'swelling_joints': 82, 'movement_stiffness': 83, 'spinning_movements': 84, 'loss_of_balance': 85, 'unsteadiness': 86, 'weakness_of_one_body_side': 87, 'loss_of_smell': 88, 'bladder_discomfort': 89, 'foul_smell_of urine': 90, 'continuous_feel_of_urine': 91, 'passage_of_gases': 92, 'internal_itching': 93, 'toxic_look_(typhos)': 94, 'depression': 95, 'irritability': 96, 'muscle_pain': 97, 'altered_sensorium': 98, 'red_spots_over_body': 99, 'belly_pain': 100, 'abnormal_menstruation': 101, 'dischromic _patches': 102, 'watering_from_eyes': 103, 'increased_appetite': 104, 'polyuria': 105, 'family_history': 106, 'mucoid_sputum': 107, 'rusty_sputum': 108, 'lack_of_concentration': 109, 'visual_disturbances': 110, 'receiving_blood_transfusion': 111, 'receiving_unsterile_injections': 112, 'coma': 113, 'stomach_bleeding': 114, 'distention_of_abdomen': 115, 'history_of_alcohol_consumption': 116, 'fluid_overload.1': 117, 'blood_in_sputum': 118, 'prominent_veins_on_calf': 119, 'palpitations': 120, 'painful_walking': 121, 'pus_filled_pimples': 122, 'blackheads': 123, 'scurring': 124, 'skin_peeling': 125, 'silver_like_dusting': 126, 'small_dents_in_nails': 127, 'inflammatory_nails': 128, 'blister': 129, 'red_sore_around_nose': 130, 'yellow_crust_ooze': 131}\n",
        "diseases_list = {15: 'Fungal infection', 4: 'Allergy', 16: 'GERD', 9: 'Chronic cholestasis', 14: 'Drug Reaction', 33: 'Peptic ulcer diseae', 1: 'AIDS', 12: 'Diabetes ', 17: 'Gastroenteritis', 6: 'Bronchial Asthma', 23: 'Hypertension ', 30: 'Migraine', 7: 'Cervical spondylosis', 32: 'Paralysis (brain hemorrhage)', 28: 'Jaundice', 29: 'Malaria', 8: 'Chicken pox', 11: 'Dengue', 37: 'Typhoid', 40: 'hepatitis A', 19: 'Hepatitis B', 20: 'Hepatitis C', 21: 'Hepatitis D', 22: 'Hepatitis E', 3: 'Alcoholic hepatitis', 36: 'Tuberculosis', 10: 'Common Cold', 34: 'Pneumonia', 13: 'Dimorphic hemmorhoids(piles)', 18: 'Heart attack', 39: 'Varicose veins', 26: 'Hypothyroidism', 24: 'Hyperthyroidism', 25: 'Hypoglycemia', 31: 'Osteoarthristis', 5: 'Arthritis', 0: '(vertigo) Paroymsal  Positional Vertigo', 2: 'Acne', 38: 'Urinary tract infection', 35: 'Psoriasis', 27: 'Impetigo'}\n",
        "\n",
        "# Model Prediction function\n",
        "def get_predicted_value(patient_symptoms):\n",
        "    input_vector = np.zeros(len(symptoms_dict))\n",
        "    for item in patient_symptoms:\n",
        "        input_vector[symptoms_dict[item]] = 1\n",
        "    return diseases_list[svc.predict([input_vector])[0]]"
      ]
    },
    {
      "cell_type": "code",
      "execution_count": null,
      "id": "a36b1e93",
      "metadata": {
        "id": "a36b1e93"
      },
      "outputs": [],
      "source": [
        "# Test 1\n",
        "# Split the user's input into a list of symptoms (assuming they are comma-separated) # itching,skin_rash,nodal_skin_eruptions\n",
        "symptoms = input(\"Enter your symptoms.......\")\n",
        "user_symptoms = [s.strip() for s in symptoms.split(',')]\n",
        "# Remove any extra characters, if any\n",
        "user_symptoms = [symptom.strip(\"[]' \") for symptom in user_symptoms]\n",
        "predicted_disease = get_predicted_value(user_symptoms)\n",
        "\n",
        "desc, pre, med, die, wrkout = helper(predicted_disease)\n",
        "\n",
        "print(\"=================predicted disease============\")\n",
        "print(predicted_disease)\n",
        "print(\"=================description==================\")\n",
        "print(desc)\n",
        "print(\"=================precautions==================\")\n",
        "i = 1\n",
        "for p_i in pre[0]:\n",
        "    print(i, \": \", p_i)\n",
        "    i += 1\n",
        "\n",
        "print(\"=================medications==================\")\n",
        "for m_i in med:\n",
        "    print(i, \": \", m_i)\n",
        "    i += 1\n",
        "\n",
        "print(\"=================workout==================\")\n",
        "for w_i in wrkout:\n",
        "    print(i, \": \", w_i)\n",
        "    i += 1\n",
        "\n",
        "print(\"=================diets==================\")\n",
        "for d_i in die:\n",
        "    print(i, \": \", d_i)\n",
        "    i += 1\n"
      ]
    },
    {
      "cell_type": "code",
      "execution_count": null,
      "id": "2d7ee79b",
      "metadata": {
        "id": "2d7ee79b"
      },
      "outputs": [],
      "source": [
        "# Test 1\n",
        "# Split the user's input into a list of symptoms (assuming they are comma-separated) # yellow_crust_ooze,red_sore_around_nose,small_dents_in_nails,inflammatory_nails,blister\n",
        "symptoms = input(\"Enter your symptoms.......\")\n",
        "user_symptoms = [s.strip() for s in symptoms.split(',')]\n",
        "# Remove any extra characters, if any\n",
        "user_symptoms = [symptom.strip(\"[]' \") for symptom in user_symptoms]\n",
        "predicted_disease = get_predicted_value(user_symptoms)\n",
        "\n",
        "desc, pre, med, die, wrkout = helper(predicted_disease)\n",
        "\n",
        "print(\"=================predicted disease============\")\n",
        "print(predicted_disease)\n",
        "print(\"=================description==================\")\n",
        "print(desc)\n",
        "print(\"=================precautions==================\")\n",
        "i = 1\n",
        "for p_i in pre[0]:\n",
        "    print(i, \": \", p_i)\n",
        "    i += 1\n",
        "\n",
        "print(\"=================medications==================\")\n",
        "for m_i in med:\n",
        "    print(i, \": \", m_i)\n",
        "    i += 1\n",
        "\n",
        "print(\"=================workout==================\")\n",
        "for w_i in wrkout:\n",
        "    print(i, \": \", w_i)\n",
        "    i += 1\n",
        "\n",
        "print(\"=================diets==================\")\n",
        "for d_i in die:\n",
        "    print(i, \": \", d_i)\n",
        "    i += 1\n"
      ]
    },
    {
      "cell_type": "code",
      "execution_count": null,
      "id": "a8d5df35",
      "metadata": {
        "id": "a8d5df35"
      },
      "outputs": [],
      "source": [
        "# let's use pycharm flask app\n",
        "# but install this version in pycharm\n",
        "import sklearn\n",
        "print(sklearn.__version__)"
      ]
    },
    {
      "cell_type": "code",
      "execution_count": null,
      "id": "97dfb973",
      "metadata": {
        "id": "97dfb973"
      },
      "outputs": [],
      "source": []
    }
  ],
  "metadata": {
    "accelerator": "GPU",
    "colab": {
      "gpuType": "T4",
      "provenance": []
    },
    "kernelspec": {
      "display_name": "Python 3",
      "name": "python3"
    },
    "language_info": {
      "codemirror_mode": {
        "name": "ipython",
        "version": 3
      },
      "file_extension": ".py",
      "mimetype": "text/x-python",
      "name": "python",
      "nbconvert_exporter": "python",
      "pygments_lexer": "ipython3",
      "version": "3.12.1"
    }
  },
  "nbformat": 4,
  "nbformat_minor": 5
}
